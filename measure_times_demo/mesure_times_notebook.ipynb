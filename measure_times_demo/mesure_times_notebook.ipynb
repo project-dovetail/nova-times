{
 "cells": [
  {
   "cell_type": "code",
   "execution_count": 1,
   "id": "7dac269b",
   "metadata": {},
   "outputs": [],
   "source": [
    "import json\n",
    "import pandas as pd "
   ]
  },
  {
   "cell_type": "code",
   "execution_count": 6,
   "id": "5e5085d8",
   "metadata": {
    "scrolled": true
   },
   "outputs": [
    {
     "data": {
      "text/html": [
       "<div>\n",
       "<style scoped>\n",
       "    .dataframe tbody tr th:only-of-type {\n",
       "        vertical-align: middle;\n",
       "    }\n",
       "\n",
       "    .dataframe tbody tr th {\n",
       "        vertical-align: top;\n",
       "    }\n",
       "\n",
       "    .dataframe thead th {\n",
       "        text-align: right;\n",
       "    }\n",
       "</style>\n",
       "<table border=\"1\" class=\"dataframe\">\n",
       "  <thead>\n",
       "    <tr style=\"text-align: right;\">\n",
       "      <th></th>\n",
       "      <th>Source</th>\n",
       "      <th>RA[d]</th>\n",
       "      <th>DEC[d]</th>\n",
       "      <th>ASSCNS1</th>\n",
       "      <th>ASSCNS2</th>\n",
       "      <th>GLON</th>\n",
       "      <th>GLAT</th>\n",
       "      <th>Name</th>\n",
       "      <th>AAVSO_dir_name</th>\n",
       "    </tr>\n",
       "  </thead>\n",
       "  <tbody>\n",
       "    <tr>\n",
       "      <th>0</th>\n",
       "      <td>4FGL J1750.9-3301</td>\n",
       "      <td>267.7298</td>\n",
       "      <td>-33.0201</td>\n",
       "      <td>NaN</td>\n",
       "      <td>NaN</td>\n",
       "      <td>357.085100</td>\n",
       "      <td>-3.078808</td>\n",
       "      <td>V1324 Sco</td>\n",
       "      <td>V1324_SCO</td>\n",
       "    </tr>\n",
       "    <tr>\n",
       "      <th>1</th>\n",
       "      <td>4FGL J1811.0-2725</td>\n",
       "      <td>272.7643</td>\n",
       "      <td>-27.4220</td>\n",
       "      <td>NaN</td>\n",
       "      <td>NaN</td>\n",
       "      <td>4.112126</td>\n",
       "      <td>-4.101693</td>\n",
       "      <td>V5855 Sgr</td>\n",
       "      <td>V5855_SGR</td>\n",
       "    </tr>\n",
       "    <tr>\n",
       "      <th>2</th>\n",
       "      <td>4FGL J1723.6-4126</td>\n",
       "      <td>260.9038</td>\n",
       "      <td>-41.4471</td>\n",
       "      <td>NaN</td>\n",
       "      <td>NaN</td>\n",
       "      <td>347.051670</td>\n",
       "      <td>-3.003951</td>\n",
       "      <td>V1716 Sco</td>\n",
       "      <td>V1716_SCO</td>\n",
       "    </tr>\n",
       "    <tr>\n",
       "      <th>3</th>\n",
       "      <td>4FGL J1727.0-3835</td>\n",
       "      <td>261.7512</td>\n",
       "      <td>-38.5843</td>\n",
       "      <td>SNRG350.0-02.0</td>\n",
       "      <td>NaN</td>\n",
       "      <td>349.789730</td>\n",
       "      <td>-1.939212</td>\n",
       "      <td>V1723 Sco</td>\n",
       "      <td>V1723_SCO</td>\n",
       "    </tr>\n",
       "  </tbody>\n",
       "</table>\n",
       "</div>"
      ],
      "text/plain": [
       "              Source     RA[d]   DEC[d]         ASSCNS1  ASSCNS2        GLON  \\\n",
       "0  4FGL J1750.9-3301  267.7298 -33.0201             NaN      NaN  357.085100   \n",
       "1  4FGL J1811.0-2725  272.7643 -27.4220             NaN      NaN    4.112126   \n",
       "2  4FGL J1723.6-4126  260.9038 -41.4471             NaN      NaN  347.051670   \n",
       "3  4FGL J1727.0-3835  261.7512 -38.5843  SNRG350.0-02.0      NaN  349.789730   \n",
       "\n",
       "       GLAT       Name AAVSO_dir_name  \n",
       "0 -3.078808  V1324 Sco      V1324_SCO  \n",
       "1 -4.101693  V5855 Sgr      V5855_SGR  \n",
       "2 -3.003951  V1716 Sco      V1716_SCO  \n",
       "3 -1.939212  V1723 Sco      V1723_SCO  "
      ]
     },
     "execution_count": 6,
     "metadata": {},
     "output_type": "execute_result"
    }
   ],
   "source": [
    "targs = pd.read_csv('targ_df.csv', index_col = 0)\n",
    "targs"
   ]
  },
  {
   "cell_type": "code",
   "execution_count": 5,
   "id": "711af1a3",
   "metadata": {},
   "outputs": [
    {
     "name": "stdout",
     "output_type": "stream",
     "text": [
      "{'band': 'V', 'maximum_jd': 2456098.46888, 'maximum_mag': 9.868, 't2_mag': 11.977, 't2_jd': 2456122.7636}\n",
      "{'band': 'V', 'maximum_jd': 2457691.56544, 'maximum_mag': 7.748, 't2_mag': 10.44, 't2_jd': 2457707.88464}\n",
      "{'band': 'V', 'maximum_jd': 2460056.625, 'maximum_mag': 6.777, 't2_mag': 8.777, 't2_jd': 2460060.886551}\n",
      "{'band': 'V', 'maximum_jd': 2460351.29054, 'maximum_mag': 6.773, 't2_mag': 8.746, 't2_jd': 2460357.87405}\n"
     ]
    }
   ],
   "source": [
    "targs = pd.read_csv('targ_df.csv', index_col = 0)\n",
    "data_dict = {}\n",
    "for i in range(len(targs)):\n",
    "# Open and read the JSON file\n",
    "    with open('output_'+targs['AAVSO_dir_name'][i]+'.json', 'r') as file:\n",
    "        data = json.load(file)\n",
    "    \n",
    "    sub_dict = {targs['AAVSO_dir_name'][i]: data}\n",
    "    data_dict.update(sub_dict)\n",
    "    # Print the data\n",
    "    print(data)"
   ]
  }
 ],
 "metadata": {
  "kernelspec": {
   "display_name": "Python 3 (ipykernel)",
   "language": "python",
   "name": "python3"
  },
  "language_info": {
   "codemirror_mode": {
    "name": "ipython",
    "version": 3
   },
   "file_extension": ".py",
   "mimetype": "text/x-python",
   "name": "python",
   "nbconvert_exporter": "python",
   "pygments_lexer": "ipython3",
   "version": "3.9.16"
  },
  "varInspector": {
   "cols": {
    "lenName": 16,
    "lenType": 16,
    "lenVar": 40
   },
   "kernels_config": {
    "python": {
     "delete_cmd_postfix": "",
     "delete_cmd_prefix": "del ",
     "library": "var_list.py",
     "varRefreshCmd": "print(var_dic_list())"
    },
    "r": {
     "delete_cmd_postfix": ") ",
     "delete_cmd_prefix": "rm(",
     "library": "var_list.r",
     "varRefreshCmd": "cat(var_dic_list()) "
    }
   },
   "types_to_exclude": [
    "module",
    "function",
    "builtin_function_or_method",
    "instance",
    "_Feature"
   ],
   "window_display": false
  }
 },
 "nbformat": 4,
 "nbformat_minor": 5
}
